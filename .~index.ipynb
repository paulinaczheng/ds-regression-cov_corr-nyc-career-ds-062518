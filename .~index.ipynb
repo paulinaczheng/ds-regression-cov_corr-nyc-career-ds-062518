{
 "cells": [
  {
   "cell_type": "markdown",
   "metadata": {},
   "source": [
    "# Calculating and Interpreting  `r`\n",
    "\n",
    "## SWBAT\n",
    "\n",
    "* Understand and calculate covariance between given variables\n",
    "* Understand and calculate correlation between variables\n",
    "* Verify the calculations for covariance and correlation using pandas methods\n",
    "* Interpret the results of pearson correlation coefficient  \n"
   ]
  },
  {
   "cell_type": "markdown",
   "metadata": {},
   "source": [
    "\n",
    "### Introduction to Covariance \n",
    "\n",
    "In probability theory and statistics, covariance is a measure of the degree to which two random variables (X, Y) change together. If the variables tend to show similar behavior, the covariance is positive. \n",
    "\n",
    "In the opposite case, when the greater values of one variable mainly correspond to the smaller values of the other, the covariance is negative.\n",
    "\n",
    "Covariance is calculated as:  ![](Co-variance.jpg)\n",
    "\n"
   ]
  },
  {
   "cell_type": "markdown",
   "metadata": {},
   "source": [
    "Let's use a simple dataset to explore the idea of covariance and perform covariance calculation. "
   ]
  },
  {
   "cell_type": "markdown",
   "metadata": {},
   "source": [
    "### Dataset\n",
    "\n",
    "The dataset (HeightWeight.csv) includes 20 heights (inches) and weights(pounds). At this point, you should be able to calculate the average height and average weight. You can also explain the medians, variances and standard deviations for this dataset. \n",
    "\n",
    "But all of those measurements are only concerned with a **single** variable. What if we want to see **how height interacts with weight?** Does weight increase as height increases?\n",
    "\n",
    "Note while there are plenty of fat short people and overly skinny tall people, when you look at the population at large, taller people will tend to weigh more than shorter people. This generalization of information is very common as it shows you a bigger picture that you can build your intuitions upon. \n",
    "\n",
    "Let's try to calculate covariance using formula shown above."
   ]
  },
  {
   "cell_type": "code",
   "execution_count": null,
   "metadata": {},
   "outputs": [],
   "source": [
    "# import the necessary libraries\n",
    "import pandas as pd\n",
    "import numpy as np\n",
    "import math"
   ]
  },
  {
   "cell_type": "code",
   "execution_count": null,
   "metadata": {},
   "outputs": [],
   "source": [
    "# Read the dataset HeightWeight.csv into a pandas dataframe\n",
    "\n",
    "data = pd.read_csv('HeightWeight.csv', \n",
    "                   header = None)\n",
    "\n",
    "# Assign column names ['height','weight'] to data set\n",
    "\n",
    "# View a fragmant of resulting dataset\n",
    "\n",
    "\n",
    "# height- weight\n",
    "# 0\t68  \t165\n",
    "# 1\t71  \t201\n",
    "# 2\t61  \t140\n",
    "# 3\t69  \t170\n",
    "# 4\t71  \t192"
   ]
  },
  {
   "cell_type": "markdown",
   "metadata": {},
   "source": [
    "As a first step, Let's write a function that takes in a vector, calculates the mean of vector and subtracts the calculated mean value from each element to calculate `(xi - X(mean))`"
   ]
  },
  {
   "cell_type": "code",
   "execution_count": null,
   "metadata": {
    "scrolled": true
   },
   "outputs": [],
   "source": [
    "def normalize(var):\n",
    "\n",
    "# Create a vector for storing output values \n",
    "# Initialize a counter to identify the position of next element in vector\n",
    "#  Calculate variable mean    \n",
    "    \n",
    "# for each element in the vector, subtract from mean and add the result to norm\n",
    "\n",
    "    return None\n",
    "\n",
    "# Calculate normalized data values from above function \n",
    "\n",
    "# [1.1500000000000057,\n",
    "#  4.150000000000006,\n",
    "#  -5.849999999999994,\n",
    "#  2.1500000000000057,\n",
    "#  4.150000000000006,\n",
    "#  -8.849999999999994,\n",
    "#  5.150000000000006,\n",
    "#  6.150000000000006,\n",
    "#  -8.849999999999994,\n",
    "#  7.150000000000006,\n",
    "#  -5.849999999999994,\n",
    "#  -7.849999999999994,\n",
    "#  2.1500000000000057,\n",
    "#  1.1500000000000057,\n",
    "#  -2.8499999999999943,\n",
    "#  2.1500000000000057,\n",
    "#  5.150000000000006,\n",
    "#  -0.8499999999999943,\n",
    "#  -1.8499999999999943,\n",
    "#  2.1500000000000057]"
   ]
  },
  {
   "cell_type": "markdown",
   "metadata": {},
   "source": [
    "We can plot the distribution before and after normalization to see the effect of this step"
   ]
  },
  {
   "cell_type": "code",
   "execution_count": null,
   "metadata": {},
   "outputs": [],
   "source": [
    "# Plot the dist. prior to normalization"
   ]
  },
  {
   "cell_type": "code",
   "execution_count": null,
   "metadata": {},
   "outputs": [],
   "source": []
  },
  {
   "cell_type": "code",
   "execution_count": null,
   "metadata": {},
   "outputs": [],
   "source": [
    "# Plot the dist. post normalization"
   ]
  },
  {
   "cell_type": "code",
   "execution_count": null,
   "metadata": {
    "scrolled": false
   },
   "outputs": [],
   "source": []
  },
  {
   "cell_type": "markdown",
   "metadata": {},
   "source": [
    "Both distributions, before and after the mean normalization appear the same, however, we can see the post mean normalization, the mean of distribution has centred as 0. "
   ]
  },
  {
   "cell_type": "markdown",
   "metadata": {},
   "source": [
    "Once we have the mean normalized vectors, we need to take a dot product of the two vectors i.e. \n",
    "\n",
    "> `a[0] * b[0] + a[1] * b[1] + a[2] * b[2] ...`\n",
    "\n",
    "Lets write another function that would take in two vectors and returns the dot product using formula above:"
   ]
  },
  {
   "cell_type": "code",
   "execution_count": null,
   "metadata": {},
   "outputs": [],
   "source": [
    "def dot_product(x,y):\n",
    "    n = 0  # a counter pointing to the current element of vector(s)\n",
    "    prod_vec = [] # Initliaze an empty list to store the results \n",
    "    \n",
    "    # For all elements in the vectors, multiply and save results in prod_vec\n",
    "\n",
    "     # summ all values in prod_vec   \n",
    "\n",
    "    return none\n",
    "\n",
    "# a = [1,2,3]\n",
    "# b = [4,5,6]\n",
    "\n",
    "# dot_product(a,b)\n",
    "\n",
    "#  32  calculated as (1*4 + 2*5 + 3*6)"
   ]
  },
  {
   "cell_type": "markdown",
   "metadata": {},
   "source": [
    "Now let’s build the co-variance function. Here we are taking the dot product of the variances of each element of height and weight. We then divide the result by the N-1 (the number of elements – 1 : the minus 1 is due to the fact we are dealing with sample data not population.\n",
    "\n",
    "Write a function `cov(var1, var2)` that would use the functions above to calculate the covariance of given variables, "
   ]
  },
  {
   "cell_type": "code",
   "execution_count": null,
   "metadata": {
    "scrolled": true
   },
   "outputs": [],
   "source": [
    "def cov(var1, var2):\n",
    "\n",
    "    # Formula for covariance is:\n",
    "    # [Sum (x_i - X)(y_i - Y)] / N-1 \n",
    "    \n",
    "    # Sanity Check : Check to see if both vectors are of same length\n",
    "    # Exit the function if variables have different lengths\n",
    "\n",
    "        # Mean normalize both variables with above function\n",
    "\n",
    "        # Take the dot product of mean normalized variables\n",
    "\n",
    "        # divide the dot product by n-1 and return results\n",
    " \n",
    "    return None\n",
    "\n",
    "# cov(data['height'], data['weight'])\n",
    "\n",
    "#  144.75789473684208  "
   ]
  },
  {
   "cell_type": "markdown",
   "metadata": {},
   "source": [
    "### Using Pandas `pd.cov()` function\n",
    "\n",
    "We can verify out results by using Pandas buikt in function `pd.cov()`, that resturns a covariance matrix showing the covariance between all columns of a dataframe. "
   ]
  },
  {
   "cell_type": "code",
   "execution_count": null,
   "metadata": {
    "scrolled": true
   },
   "outputs": [],
   "source": [
    "data.cov()"
   ]
  },
  {
   "cell_type": "markdown",
   "metadata": {},
   "source": [
    "Success. We see that our calculated covariance value is same as the one calculated by Pandas `cov()` function. \n",
    "\n",
    "Let's now move to correlation and calculate/verify it just like above. "
   ]
  },
  {
   "cell_type": "markdown",
   "metadata": {},
   "source": [
    "## Pearson Correlation (r)\n",
    "\n",
    "So we have another measurement known as correlation. A very basic correlation equation divides out the standard deviation of both height and weight. The result of a correlation is between 1 and -1. With -1 being perfect anti-correlation and 1 being perfect correlation. 0 mean no correlation exists.\n",
    "\n",
    "![](correlation.png)\n"
   ]
  },
  {
   "cell_type": "code",
   "execution_count": null,
   "metadata": {},
   "outputs": [],
   "source": [
    "def corr(var1,var2):\n",
    "    \n",
    "\n",
    "    return None\n",
    "    \n",
    "# corr(data['height'], data['weight'])\n",
    "# 0.98"
   ]
  },
  {
   "cell_type": "markdown",
   "metadata": {},
   "source": [
    "The result of correlation i.e. the pearson's r value in this case is equal to 1, indicating a high correlation between heights and weights. Let's use pandas `pd.corr()`  and/or numpy's `np.corrcoef()` function to verify our result"
   ]
  },
  {
   "cell_type": "code",
   "execution_count": null,
   "metadata": {
    "scrolled": true
   },
   "outputs": [],
   "source": [
    "data.corr()"
   ]
  },
  {
   "cell_type": "code",
   "execution_count": null,
   "metadata": {},
   "outputs": [],
   "source": [
    "np.corrcoef(data.weight, data.height)"
   ]
  },
  {
   "cell_type": "markdown",
   "metadata": {},
   "source": [
    "Brilliant. Our results have been verified and this also indicates that with an increase in height, the weight of an individual increases accordingly. We can visualize the data columns to confirm our intuition. "
   ]
  },
  {
   "cell_type": "code",
   "execution_count": null,
   "metadata": {},
   "outputs": [],
   "source": [
    "# a Scatter plot between weight and height variables"
   ]
  },
  {
   "cell_type": "code",
   "execution_count": null,
   "metadata": {
    "scrolled": false
   },
   "outputs": [],
   "source": []
  },
  {
   "cell_type": "markdown",
   "metadata": {},
   "source": [
    "The graph above confirms our findings as we can see a liear relationship between weights and heights i.e. weight increases with increasing height and vice versa. "
   ]
  },
  {
   "cell_type": "markdown",
   "metadata": {},
   "source": [
    "Let's quickly try to input two vectors which dont change together like the example above and see the effect on the correlation. \n",
    "\n",
    "Create some dummy vectors to calculate correlation between variables that highly correlate, somewhat correlate and dont correlate at all. "
   ]
  },
  {
   "cell_type": "code",
   "execution_count": null,
   "metadata": {},
   "outputs": [],
   "source": [
    "# A quick test \n",
    "\n",
    "# a = [2,4,6,8,10]\n",
    "# b = [3, -9, .001, 100, -36]\n",
    "# c = [2,4,6,8,-10]\n",
    "# d = [-2,-4,-6,-8,-10]\n",
    "# print (corr(a,a), corr(a,b), corr(a,c), corr(a,d)) \n",
    "\n",
    "\n",
    "# 1.0 0.09 -0.45 -1.0"
   ]
  },
  {
   "cell_type": "markdown",
   "metadata": {},
   "source": [
    "## Summary \n",
    "\n",
    "This lab explains the calculations for covariance and correlation and how to interpret the values for both of these. We learnt to measure and represent how strongly two random variables as correlation. Covariance is nothing but a measure of correlation. On the contrary, correlation refers to the scaled form of covariance.\n",
    "\n",
    ">Correlation is dimensionless, i.e. it is a unit-free measure of the relationship between variables. Covariance is a measure of correlation. "
   ]
  }
 ],
 "metadata": {
  "kernelspec": {
   "display_name": "Python 3",
   "language": "python",
   "name": "python3"
  },
  "language_info": {
   "codemirror_mode": {
    "name": "ipython",
    "version": 3
   },
   "file_extension": ".py",
   "mimetype": "text/x-python",
   "name": "python",
   "nbconvert_exporter": "python",
   "pygments_lexer": "ipython3",
   "version": "3.6.5"
  }
 },
 "nbformat": 4,
 "nbformat_minor": 2
}
